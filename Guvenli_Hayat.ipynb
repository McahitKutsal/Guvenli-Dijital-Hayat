{
  "nbformat": 4,
  "nbformat_minor": 0,
  "metadata": {
    "colab": {
      "name": "Guvenli-Hayat.ipynb",
      "provenance": [],
      "collapsed_sections": []
    },
    "kernelspec": {
      "name": "python3",
      "display_name": "Python 3"
    },
    "language_info": {
      "name": "python"
    }
  },
  "cells": [
    {
      "cell_type": "code",
      "execution_count": null,
      "metadata": {
        "id": "Gi8RIXOv2YOQ"
      },
      "outputs": [],
      "source": [
        "import numpy as np"
      ]
    },
    {
      "cell_type": "markdown",
      "source": [
        "<h1> Pseudo-Random Number Generator Class'ı basit bir python generator class'ı daha sonra bu sınıfı extend alan LinearCongruentialGenerator sınıfı Mersenne-Twister algoritmasının implementasyonu için kullanılacak"
      ],
      "metadata": {
        "id": "8p0f64hKuBZX"
      }
    },
    {
      "cell_type": "code",
      "source": [
        "\n",
        "class PRNG(object):\n",
        "    def __init__(self, X0=0):\n",
        "        \"\"\"X0 seed'i 0 olarak başlatıyoruz\"\"\"\n",
        "        self.X0 = X0\n",
        "        self.X = X0\n",
        "        self.t = 0\n",
        "        self.max = 0\n",
        "    \n",
        "    def __iter__(self):\n",
        "        return self\n",
        "    \n",
        "    def seed(self, X0=None):\n",
        "          \"\"\"Seed fonksiyonu her çağırıldığında t ve X0 değeri yeniden initialize ediliyor.\"\"\"\n",
        "          self.t = 0\n",
        "          self.X = self.X0 if X0 is None else X0\n",
        "    \n",
        "    def __next__(self):\n",
        "        \"\"\"Bir iteratör yapısıyla çalıştığımız için next fonksiyonu ile yeni bir değer üreteceğiz ilerleyen hücrelerde implementasyonu yapıldı.\"\"\"\n",
        "        # This default PRNG does not produce random numbers!\n",
        "        self.t += 1\n",
        "        return self.X\n",
        "    \n",
        "    def randint(self, *args, **kwargs):\n",
        "        return self.__next__()\n",
        "\n",
        "    def int_samples(self, shape=(1,)):\n",
        "        \"\"\"istenilen boyutta random integer sample almak için yazılan fonksiyon\"\"\"\n",
        "        # return [ self.randint() for _ in range(size) ]\n",
        "        return np.fromfunction(np.vectorize(self.randint), shape=shape, dtype=int)\n",
        "\n",
        "    def rand(self, *args, **kwargs):\n",
        "        \"\"\"[0, 1) aralığında float bir sayı döndürür.\"\"\"\n",
        "        return self.randint() / float(1 + self.max)\n",
        "\n",
        "    def float_samples(self, shape=(1,)):\n",
        "        \"\"\"istenilen boyutta random float sample almak için yazılan fonksiyon\"\"\"\n",
        "        return np.fromfunction(np.vectorize(self.rand), shape=shape, dtype=int)\n",
        "    def text_samples(self, n=1):\n",
        "        \"\"\"istenilen boyutta random float sample almak için yazılan fonksiyon\"\"\"\n",
        "        for i in range(n):\n",
        "          yield self.__next__()"
      ],
      "metadata": {
        "id": "cOsRBR0V2gCe"
      },
      "execution_count": null,
      "outputs": []
    },
    {
      "cell_type": "markdown",
      "source": [
        "<h1> linear congruential Algoritması yazıyoruz hocam. Bir önceki sınıfımızı extend alıyor. İlerleyen kod bloklarında kullanacağız."
      ],
      "metadata": {
        "id": "JkZ6aTWctwHv"
      }
    },
    {
      "cell_type": "markdown",
      "source": [
        "<h2>Burada ayrıca python <b>hashlib</b> kütüphanesini import ediyoruz bu sayede sha256 algoritmasını kullanarak her bir iterasyon için <b>tohum değerini hash fonksiyonundan geçirip</b> o şekilde kullanacağız"
      ],
      "metadata": {
        "id": "xpdGOcbZuaWV"
      }
    },
    {
      "cell_type": "code",
      "source": [
        "from hashlib import sha256"
      ],
      "metadata": {
        "id": "DRQ_0TfJvBEG"
      },
      "execution_count": null,
      "outputs": []
    },
    {
      "cell_type": "code",
      "source": [
        "class LinearCongruentialGenerator(PRNG):\n",
        "    def __init__(self, m, a, c, X0=0):\n",
        "        \"\"\"init fonksiyonundan super'i çağırıp extend ettiğimiz parent generator class'ı başlatıyoruz.\"\"\"\n",
        "        super(LinearCongruentialGenerator, self).__init__(X0=X0)\n",
        "        self.m = self.max = m\n",
        "        self.a = a\n",
        "        self.c = c\n",
        "    \n",
        "    def __next__(self):\n",
        "        \"\"\"Şu denklem ile çalışan next fonksiyonunu implemente ediyoruz: X_{t+1} = (a X_t + c) mod m.\"\"\"\n",
        "        self.t += 1\n",
        "        x = self.X\n",
        "        self.X = (self.a * self.X + self.c) % self.m\n",
        "        return x\n",
        "\n",
        "    \n"
      ],
      "metadata": {
        "id": "TLlGIAc24fva"
      },
      "execution_count": null,
      "outputs": []
    },
    {
      "cell_type": "code",
      "source": [
        "\"\"\" başlangıç değerlerimiz \"\"\"\n",
        "\n",
        "m = 1 << 31 - 1 \n",
        "a = 7 ** 4\n",
        "c = 1\n",
        "\n",
        "\"\"\" Bu fonksiyon ile random sayı üretecek generator fonksiyonumuzu sürekli itere ederek yeni bir sayı üretmesini sağlıyoruz \"\"\"\n",
        "def execute(example, nb=4):\n",
        "    for t, x in enumerate(example):\n",
        "        print(\"{:>3}th value for {.__class__.__name__} is X_t = {:>10}\".format(t+1, example, x))\n",
        "        if t >= nb - 1:\n",
        "            break"
      ],
      "metadata": {
        "id": "7P8xVUIy51x5"
      },
      "execution_count": null,
      "outputs": []
    },
    {
      "cell_type": "markdown",
      "source": [
        "<h1>Burada bir tohum değeri ile clasımızı new'liyoruz"
      ],
      "metadata": {
        "id": "ZotpNckftqi4"
      }
    },
    {
      "cell_type": "code",
      "source": [
        "\n",
        "numner_generator = LinearCongruentialGenerator(m=m, a=a, c=c, X0=12011993)\n",
        "execute(numner_generator)"
      ],
      "metadata": {
        "id": "Dx04ZbGs6QS4"
      },
      "execution_count": null,
      "outputs": []
    },
    {
      "cell_type": "markdown",
      "source": [
        "<h1>sınıfımızı farklı bir tohum değeri ile seedlediğimiz zaman göründüğü gibi farklı sayılar elde ediyoruz"
      ],
      "metadata": {
        "id": "xBIy9Bq-tmSn"
      }
    },
    {
      "cell_type": "code",
      "source": [
        "\n",
        "numner_generator.seed(1201195)\n",
        "execute(numner_generator)"
      ],
      "metadata": {
        "id": "bnbB_ECFeEXy"
      },
      "execution_count": null,
      "outputs": []
    },
    {
      "cell_type": "markdown",
      "source": [
        "<h1>Şimdi kurduğumuz algoritma ile elde edeceğimiz rastgele sayılardan bir matris üretip bunu pikseller haline getireceğiz"
      ],
      "metadata": {
        "id": "CY0zVQQ2gj-X"
      }
    },
    {
      "cell_type": "code",
      "source": [
        "\"\"\" boyut belirliyoruz ve belirlenen boyutta martis elde etmek için tanımladığımız sınıfın bir fonksiyonunu çağırıyoruz \"\"\"\n",
        "\n",
        "shape = (400, 400)\n",
        "image = numner_generator.float_samples(shape)"
      ],
      "metadata": {
        "id": "Z42b_sBcgIoO"
      },
      "execution_count": null,
      "outputs": []
    },
    {
      "cell_type": "markdown",
      "source": [
        "<h1>matplotlib kütüphanesi yardımıyla elde edilen resmi çiziyoruz"
      ],
      "metadata": {
        "id": "Fl91_rmLtclb"
      }
    },
    {
      "cell_type": "code",
      "source": [
        "\n",
        "%matplotlib inline\n",
        "import matplotlib.pyplot as plt\n",
        "\n",
        "def showimage(image):\n",
        "    plt.figure(figsize=(8, 8))\n",
        "    plt.imshow(image, cmap='gray', interpolation='none')\n",
        "    plt.axis('off')\n",
        "    plt.show()"
      ],
      "metadata": {
        "id": "H3OXNjMnhawu"
      },
      "execution_count": null,
      "outputs": []
    },
    {
      "cell_type": "code",
      "source": [
        "showimage(image)"
      ],
      "metadata": {
        "id": "56lTbCZChb9T"
      },
      "execution_count": null,
      "outputs": []
    },
    {
      "cell_type": "markdown",
      "source": [
        "<h1>Şimdi random sayı üretecimizin ürettiği resmin Histogramını çizeceğiz bu sayede üretilen sayıların dağılımı hakkında daha iyi fikir sahibi olabiliriz"
      ],
      "metadata": {
        "id": "YYzqBfTftYLv"
      }
    },
    {
      "cell_type": "code",
      "source": [
        "def plotHistogram(example, nb=100000, bins=200):\n",
        "    numbers = example.float_samples((nb,))\n",
        "    plt.figure(figsize=(16, 5))\n",
        "    plt.hist(numbers, bins=bins, density = True, alpha=0.8)\n",
        "    plt.xlabel(\" Üretilen değerler\")\n",
        "    plt.ylabel(\"Üretilen değerlerin tekrarı(ağırlığı)\")\n",
        "    plt.title(\"Üretilen Random piksellerin Histogram Grafiği\".format(nb))\n",
        "    plt.show()"
      ],
      "metadata": {
        "id": "IPIXGVrahtc7"
      },
      "execution_count": null,
      "outputs": []
    },
    {
      "cell_type": "code",
      "source": [
        "plotHistogram(numner_generator, 1000000, 200)"
      ],
      "metadata": {
        "id": "7VEpSM6tiiOl"
      },
      "execution_count": null,
      "outputs": []
    },
    {
      "cell_type": "markdown",
      "source": [
        "# Şimdi Mersenne-Twister Algoritmasını Kendi Yazdığımız Random Sayı Üreteci İçin Implemente ediyoruz"
      ],
      "metadata": {
        "id": "ui4O1ln2kTKM"
      }
    },
    {
      "cell_type": "markdown",
      "source": [
        "<h1>*Really random * denecek bir tohum değeri elde etmek için datetime modülünden yardım alacağız</h1>"
      ],
      "metadata": {
        "id": "_0xA1sIJlCWU"
      }
    },
    {
      "cell_type": "code",
      "source": [
        "from datetime import datetime\n",
        "\n",
        "def get_seconds():\n",
        "    d = datetime.today().timestamp()\n",
        "    s = 1e6 * (d - int(d))\n",
        "    return int(s)\n",
        "get_seconds()"
      ],
      "metadata": {
        "colab": {
          "base_uri": "https://localhost:8080/"
        },
        "id": "edndg0YUlBGr",
        "outputId": "dc528b70-9183-4f20-99f6-9da24579bc72"
      },
      "execution_count": null,
      "outputs": [
        {
          "output_type": "execute_result",
          "data": {
            "text/plain": [
              "806829"
            ]
          },
          "metadata": {},
          "execution_count": 17
        }
      ]
    },
    {
      "cell_type": "markdown",
      "source": [
        "<h1> Şimdi linear random sayı üretecimiz ile elde ettiğimiz rastgele sayılarla Mersenne-Twister algoritmasını feed'leyeceğiz <h1>"
      ],
      "metadata": {
        "id": "gvb5y65unX5o"
      }
    },
    {
      "cell_type": "code",
      "source": [
        "def seed_rows(example, n, w):\n",
        "    return example.int_samples((n,))\n",
        "\n",
        "def random_Mersenne_seed(n, w):\n",
        "    linear = LinearCongruentialGenerator(m=(1 << 31) - 1, a=7 ** 4, c=0, X0=get_seconds())\n",
        "    assert w == 32, \"Error: only w = 32 was implemented\"\n",
        "    seed = seed_rows(linear, n, w)\n",
        "    assert np.shape(seed) == (n,)\n",
        "    return seed\n",
        "w = 32\n",
        "n = 624\n",
        "example_seed = random_Mersenne_seed(n, w)"
      ],
      "metadata": {
        "id": "FNiWjvVblk06"
      },
      "execution_count": null,
      "outputs": []
    },
    {
      "cell_type": "markdown",
      "source": [
        "<h1> Bu adımda Mersenne-Twister algoritmasınının classını yazıyoruz burada <b>kaydırma ve xor'lama</b> işlemleri implemente edilecek </h1>\n",
        "\n",
        "<h2>Ayrıca her __next__ iterasyonunda itere edilecek tohum değeri için <b>sha256</b> hashing algoritması kullanılacak</h2>"
      ],
      "metadata": {
        "id": "Sxapj1b4oZo5"
      }
    },
    {
      "cell_type": "code",
      "source": [
        "class MersenneTwister(PRNG):\n",
        "    def __init__(self, seed=None,\n",
        "                 w=32, n=624, m=397, r=31,\n",
        "                 a=0x9908B0DF, b=0x9D2C5680, c=0xEFC60000,\n",
        "                 u=11, s=7, v=15, l=18):\n",
        "        self.t = 0\n",
        "        # Parametereler\n",
        "        self.w = w\n",
        "        self.n = n\n",
        "        self.m = m\n",
        "        self.r = r\n",
        "        self.a = a\n",
        "        self.b = b\n",
        "        self.c = c\n",
        "        self.u = u\n",
        "        self.s = s\n",
        "        self.v = v\n",
        "        self.l = l\n",
        "        if seed is None:\n",
        "            seed = random_Mersenne_seed(n, w)\n",
        "        self.X0 = seed\n",
        "        self.X = np.copy(seed)\n",
        "        self.max = (1 << w) - 1\n",
        "        \n",
        "    def __next__(self):\n",
        "        self.t += 1\n",
        "        #  x_t'nin ilk r kadar biti sola (x_t >> (w - r)) << (w - r)\n",
        "        # {t+1}'in son w - r bit'i sağa = x & ((1 << (w - r)) - 1)\n",
        "        # sonra bu sol ve sağ değerlerini bir binary vektörde birleştiriyoruz (left + right)\n",
        "        left = self.X[0] >> (self.w - self.r)\n",
        "        right = (self.X[1] & ((1 << (self.w - self.r)) - 1))\n",
        "        x = (left << (self.w - self.r)) + right\n",
        "        xw = x % 2            \n",
        "        if xw == 0:\n",
        "            xtilde = (x >> 1)          \n",
        "        else:\n",
        "            xtilde = (x >> 1) ^ self.a   \n",
        "        nextx = self.X[self.m] ^ xtilde  \n",
        "\n",
        "        oldx0 = self.X[0]         \n",
        "        self.X[:-1] = self.X[1:]   # X'i bir index sola kaydırma\n",
        "        # print('next : ', nextx, 'hashed : ', int(sha256(str(nextx).encode('ASCII')).hexdigest(), 16) % (10 ** 10))\n",
        "        # Burada algoritmamızın tohum değerini bir sonraki iterasyona geçirmeden önce sha256 ile hashliyoruz\n",
        "        nextx = int(sha256(str(nextx).encode('ASCII')).hexdigest(), 16) % (10 ** 16)\n",
        "        self.X[-1]  = nextx      \n",
        "\n",
        "        # xor'lama işlemleri\n",
        "        y = nextx                      #  y = x_{t+n}\n",
        "        y ^= (y >> self.u)             #  y = y ⊕ (y >> u)\n",
        "        y ^= ((y << self.s) & self.b)  #  y = y ⊕ ((y << s) & b)\n",
        "        y ^= ((y << self.v) & self.c)  #  y = y ⊕ ((y << v) & c)\n",
        "        y ^= (y >> self.l)             #  y = y ⊕ (y >> l)\n",
        "        return y"
      ],
      "metadata": {
        "id": "4opI4sQVnF-5"
      },
      "execution_count": null,
      "outputs": []
    },
    {
      "cell_type": "markdown",
      "source": [
        "<h1> 2 hücre önce elde ettiğimiz tohum değeri ile MersenneTwister sınıfımızı örnekliyoruz"
      ],
      "metadata": {
        "id": "D46pL8dmsAKw"
      }
    },
    {
      "cell_type": "code",
      "source": [
        "mt_generator = MersenneTwister(seed=example_seed)"
      ],
      "metadata": {
        "id": "F22CsR1Kr6jw"
      },
      "execution_count": null,
      "outputs": []
    },
    {
      "cell_type": "markdown",
      "source": [
        "<h1> Şimdi yazdığımız Mersenne-Twister algoritmasını kullanarak random piksellerden oluşan bir görüntü elde edip daha sonra histogramını çizaceğiz"
      ],
      "metadata": {
        "id": "zom7eacosYUJ"
      }
    },
    {
      "cell_type": "code",
      "source": [
        "shape = (1000, 1000)\n",
        "random_numbers = mt_generator.float_samples(shape)\n",
        "showimage(random_numbers)"
      ],
      "metadata": {
        "id": "0hAqq1desuXT"
      },
      "execution_count": null,
      "outputs": []
    },
    {
      "cell_type": "markdown",
      "source": [
        "<h1>Görüldüğü üzere gayet iyi dağılıma sahip bir random sayı üreteci implemente ettik."
      ],
      "metadata": {
        "id": "UE7ELAvotKg8"
      }
    },
    {
      "cell_type": "code",
      "source": [
        "plotHistogram(mt_generator, 100000, 200)"
      ],
      "metadata": {
        "id": "JXws-872tCpf"
      },
      "execution_count": null,
      "outputs": []
    },
    {
      "cell_type": "markdown",
      "source": [
        "<h1> Şimdi elde ettiğimiz rondom sayıları istatistiksel test için bitler haline getiriyoruz </h1>"
      ],
      "metadata": {
        "id": "VhI2dOHzphim"
      }
    },
    {
      "cell_type": "code",
      "source": [
        "bit_array = random_numbers.reshape(-1, 1)\n",
        "avg = np.average(bit_array)\n",
        "bit_array = [1 if i<avg else 0 for i in bit_array]"
      ],
      "metadata": {
        "id": "XfgZ6mb3oDSN"
      },
      "execution_count": null,
      "outputs": []
    },
    {
      "cell_type": "markdown",
      "source": [
        "<h1> Görüldüğü üzere üretilen 1'lerin ve 0'ların sayısı birbirine epey yakın"
      ],
      "metadata": {
        "id": "AtCCx_Gf4c9e"
      }
    },
    {
      "cell_type": "code",
      "source": [
        "unique, counts = np.unique(bit_array, return_counts=True)\n",
        "sozluk = dict(zip(unique, counts))\n",
        "print('Üretilen sıfırların sayısı: ', sozluk[0])\n",
        "print('Üretilen Birlerin sayısı: ', sozluk[1])"
      ],
      "metadata": {
        "id": "cjCCtHtWoDKh"
      },
      "execution_count": null,
      "outputs": []
    },
    {
      "cell_type": "markdown",
      "source": [
        "<h1> Son olarak mersenne twister algoritmasını çıktısı <b>DES </b>Algoritmasından geçirilecek şekilde yeniden implemente ediyoruz</h1>"
      ],
      "metadata": {
        "id": "c7eEDJp9964e"
      }
    },
    {
      "cell_type": "code",
      "source": [
        "!pip install Crypto\n",
        "!pip install pycrypto"
      ],
      "metadata": {
        "id": "KccFdi1p-oyU"
      },
      "execution_count": null,
      "outputs": []
    },
    {
      "cell_type": "code",
      "source": [
        "# 1DES Algoritmasını kullanıyoruz\n",
        "from Crypto.Cipher import DES\n",
        "\n",
        "key = b'des12345'\n",
        "\n",
        "des = DES.new(key, DES.MODE_ECB)\n",
        "\n",
        "def pad(text):\n",
        "        while len(text) % 8 != 0:\n",
        "            text += ' '\n",
        "        return text\n",
        "text1 = '123456789'\n",
        "\n",
        "padded_text = pad(text1)\n",
        "\n",
        "encrypted_text = des.encrypt(padded_text)\n",
        "\n",
        "print(encrypted_text)\n",
        "print(des.decrypt(encrypted_text))"
      ],
      "metadata": {
        "id": "D7PIandL_FpQ"
      },
      "execution_count": null,
      "outputs": []
    },
    {
      "cell_type": "code",
      "source": [
        "class MersenneTwisterWithDes(PRNG):\n",
        "    def __init__(self, seed=None,\n",
        "                 w=32, n=624, m=397, r=31,\n",
        "                 a=0x9908B0DF, b=0x9D2C5680, c=0xEFC60000,\n",
        "                 u=11, s=7, v=15, l=18):\n",
        "        self.t = 0\n",
        "        # Parametereler\n",
        "        self.w = w\n",
        "        self.n = n\n",
        "        self.m = m\n",
        "        self.r = r\n",
        "        self.a = a\n",
        "        self.b = b\n",
        "        self.c = c\n",
        "        self.u = u\n",
        "        self.s = s\n",
        "        self.v = v\n",
        "        self.l = l\n",
        "        if seed is None:\n",
        "            seed = random_Mersenne_seed(n, w)\n",
        "        self.X0 = seed\n",
        "        self.X = np.copy(seed)\n",
        "        self.max = (1 << w) - 1\n",
        "        \n",
        "    def __next__(self):\n",
        "        self.t += 1\n",
        "        #  x_t'nin ilk r kadar biti sola (x_t >> (w - r)) << (w - r)\n",
        "        # {t+1}'in son w - r bit'i sağa = x & ((1 << (w - r)) - 1)\n",
        "        # sonra bu sol ve sağ değerlerini bir binary vektörde birleştiriyoruz (left + right)\n",
        "        left = self.X[0] >> (self.w - self.r)\n",
        "        right = (self.X[1] & ((1 << (self.w - self.r)) - 1))\n",
        "        x = (left << (self.w - self.r)) + right\n",
        "        xw = x % 2            \n",
        "        if xw == 0:\n",
        "            xtilde = (x >> 1)          \n",
        "        else:\n",
        "            xtilde = (x >> 1) ^ self.a   \n",
        "        nextx = self.X[self.m] ^ xtilde  \n",
        "\n",
        "        oldx0 = self.X[0]         \n",
        "        self.X[:-1] = self.X[1:]   # X'i bir index sola kaydırma\n",
        "        # print('next : ', nextx, 'hashed : ', int(sha256(str(nextx).encode('ASCII')).hexdigest(), 16) % (10 ** 10))\n",
        "        # Burada algoritmamızın tohum değerini bir sonraki iterasyona geçirmeden önce sha256 ile hashliyoruz\n",
        "        nextx = int(sha256(str(nextx).encode('ASCII')).hexdigest(), 16) % (10 ** 16)\n",
        "        self.X[-1]  = nextx      \n",
        "\n",
        "        # xor'lama işlemleri\n",
        "        y = nextx                      #  y = x_{t+n}\n",
        "        y ^= (y >> self.u)             #  y = y ⊕ (y >> u)\n",
        "        y ^= ((y << self.s) & self.b)  #  y = y ⊕ ((y << s) & b)\n",
        "        y ^= ((y << self.v) & self.c)  #  y = y ⊕ ((y << v) & c)\n",
        "        y ^= (y >> self.l)             #  y = y ⊕ (y >> l)\n",
        "        padded_text = pad(str(bytes(str(y), encoding='utf-8')))\n",
        "        y = des.encrypt(padded_text)\n",
        "        return y"
      ],
      "metadata": {
        "id": "08bWQwjX_lHO"
      },
      "execution_count": null,
      "outputs": []
    },
    {
      "cell_type": "code",
      "source": [
        "mtwd_generator = MersenneTwisterWithDes(seed=example_seed)"
      ],
      "metadata": {
        "id": "ZabLWiBnAWGU"
      },
      "execution_count": null,
      "outputs": []
    },
    {
      "cell_type": "code",
      "source": [
        "n = 100\n",
        "random_bytes = list(mtwd_generator.text_samples(n))\n",
        "random_encrypted_texts = [i.hex() for i in random_bytes]"
      ],
      "metadata": {
        "id": "sKx4qaEYAMwi"
      },
      "execution_count": null,
      "outputs": []
    },
    {
      "cell_type": "code",
      "source": [
        "print(random_encrypted_texts)"
      ],
      "metadata": {
        "id": "L0zScxnXDBM_"
      },
      "execution_count": null,
      "outputs": []
    },
    {
      "cell_type": "markdown",
      "source": [
        "<h1> Örnek olması için random dizi içerisinden bir text'i encrypt ederek Mersenne Twister algoritmasının gerçekte hangi sayıyı ürettiğine bakıyoruz </h1>"
      ],
      "metadata": {
        "id": "bsdyNNJhNsrm"
      }
    },
    {
      "cell_type": "code",
      "source": [
        "byte_arr = bytearray.fromhex(random_encrypted_texts[3])\n",
        "string = str(des.decrypt(bytes(byte_arr))).strip().replace(\" \", \"\")\n",
        "print(string[4:-2])"
      ],
      "metadata": {
        "id": "vzsrVOEZKzax"
      },
      "execution_count": null,
      "outputs": []
    }
  ]
}